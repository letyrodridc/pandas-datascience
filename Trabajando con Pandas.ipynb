{
 "cells": [
  {
   "cell_type": "markdown",
   "metadata": {},
   "source": [
    "## Trabajando con Pandas - Inicial"
   ]
  },
  {
   "cell_type": "markdown",
   "metadata": {},
   "source": [
    "Pandas provee de tres datastructures principales: Series, DataFrame, e Index.\n",
    "También usaremos numpy que provee una librería para manejar arrays n-dimensionales.\n",
    "\n",
    "Bibliografía:\n",
    "- Data Analysis with Pandas 2019 - Stefanie Molin"
   ]
  },
  {
   "cell_type": "markdown",
   "metadata": {},
   "source": [
    "--------------------"
   ]
  },
  {
   "cell_type": "markdown",
   "metadata": {},
   "source": [
    "# Importamos liberías comunes "
   ]
  },
  {
   "cell_type": "code",
   "execution_count": 3,
   "metadata": {},
   "outputs": [],
   "source": [
    "import numpy as np\n",
    "import pandas as pd\n",
    "import datetime"
   ]
  },
  {
   "cell_type": "markdown",
   "metadata": {},
   "source": [
    "---------------"
   ]
  },
  {
   "cell_type": "markdown",
   "metadata": {},
   "source": [
    "# Leyendo datos con Numpy\n"
   ]
  },
  {
   "cell_type": "code",
   "execution_count": 4,
   "metadata": {},
   "outputs": [],
   "source": [
    "filename = 'data/example_data.csv'\n",
    "data = np.genfromtxt(filename, delimiter=';', names=True, dtype=None, encoding='UTF')"
   ]
  },
  {
   "cell_type": "code",
   "execution_count": 5,
   "metadata": {},
   "outputs": [
    {
     "data": {
      "text/plain": [
       "array([('2018-10-13 11:10:23.560', '262km NW of Ozernovskiy, Russia', 'mww', 6.7, 'green', 1),\n",
       "       ('2018-10-13 04:34:15.580', '25km E of Bitung, Indonesia', 'mww', 5.2, 'green', 0),\n",
       "       ('2018-10-13 00:13:46.220', '42km WNW of Sola, Vanuatu', 'mww', 5.7, 'green', 0),\n",
       "       ('2018-10-12 21:09:49.240', '13km E of Nueva Concepcion, Guatemala', 'mww', 5.7, 'green', 0),\n",
       "       ('2018-10-12 02:52:03.620', '128km SE of Kimbe, Papua New Guinea', 'mww', 5.6, 'green', 1)],\n",
       "      dtype=[('time', '<U23'), ('place', '<U37'), ('magType', '<U3'), ('mag', '<f8'), ('alert', '<U5'), ('tsunami', '<i8')])"
      ]
     },
     "execution_count": 5,
     "metadata": {},
     "output_type": "execute_result"
    }
   ],
   "source": [
    "data"
   ]
  },
  {
   "cell_type": "code",
   "execution_count": 6,
   "metadata": {},
   "outputs": [
    {
     "data": {
      "text/plain": [
       "(5,)"
      ]
     },
     "execution_count": 6,
     "metadata": {},
     "output_type": "execute_result"
    }
   ],
   "source": [
    "data.shape # dimensiones del array , se trata de un array de  5 tuplas"
   ]
  },
  {
   "cell_type": "code",
   "execution_count": 7,
   "metadata": {},
   "outputs": [
    {
     "data": {
      "text/plain": [
       "dtype([('time', '<U23'), ('place', '<U37'), ('magType', '<U3'), ('mag', '<f8'), ('alert', '<U5'), ('tsunami', '<i8')])"
      ]
     },
     "execution_count": 7,
     "metadata": {},
     "output_type": "execute_result"
    }
   ],
   "source": [
    "data.dtype #tipos de datos de cada elemento de la tupla"
   ]
  },
  {
   "cell_type": "code",
   "execution_count": 8,
   "metadata": {},
   "outputs": [
    {
     "name": "stdout",
     "output_type": "stream",
     "text": [
      "2.75 µs ± 43.1 ns per loop (mean ± std. dev. of 7 runs, 100000 loops each)\n"
     ]
    }
   ],
   "source": [
    "%%timeit ## realiza 7 ejecuciones de 100000 loops y calcula la media y el desvio estandard\n",
    "max([row[3] for row in data])"
   ]
  },
  {
   "cell_type": "markdown",
   "metadata": {},
   "source": [
    "Pasamos los datos a un diccionario cuyas keys sean los nombres de las columnas y sus valores, arreglos de numpy\n",
    "\n",
    "**data.dtype.names** Accedemos a los nombres de las columnas\n",
    "\n",
    "Podemos iterar por los row del numpy array con **for row in data** similar a como hacemos con una lista\n"
   ]
  },
  {
   "cell_type": "code",
   "execution_count": 9,
   "metadata": {},
   "outputs": [
    {
     "data": {
      "text/plain": [
       "{'time': array(['2018-10-13 11:10:23.560', '2018-10-13 04:34:15.580',\n",
       "        '2018-10-13 00:13:46.220', '2018-10-12 21:09:49.240',\n",
       "        '2018-10-12 02:52:03.620'], dtype='<U23'),\n",
       " 'place': array(['262km NW of Ozernovskiy, Russia', '25km E of Bitung, Indonesia',\n",
       "        '42km WNW of Sola, Vanuatu',\n",
       "        '13km E of Nueva Concepcion, Guatemala',\n",
       "        '128km SE of Kimbe, Papua New Guinea'], dtype='<U37'),\n",
       " 'magType': array(['mww', 'mww', 'mww', 'mww', 'mww'], dtype='<U3'),\n",
       " 'mag': array([6.7, 5.2, 5.7, 5.7, 5.6]),\n",
       " 'alert': array(['green', 'green', 'green', 'green', 'green'], dtype='<U5'),\n",
       " 'tsunami': array([1, 0, 0, 0, 1])}"
      ]
     },
     "execution_count": 9,
     "metadata": {},
     "output_type": "execute_result"
    }
   ],
   "source": [
    "\n",
    "array_dict = {}\n",
    "\n",
    "for col_index, colname in enumerate(data.dtype.names):\n",
    "    array_dict[colname] = np.array([row[col_index] for row in data])\n",
    "    \n",
    "array_dict    "
   ]
  },
  {
   "cell_type": "code",
   "execution_count": 10,
   "metadata": {},
   "outputs": [
    {
     "data": {
      "text/plain": [
       "6.7"
      ]
     },
     "execution_count": 10,
     "metadata": {},
     "output_type": "execute_result"
    }
   ],
   "source": [
    "array_dict\n",
    "array_dict['mag'].max()"
   ]
  },
  {
   "cell_type": "markdown",
   "metadata": {},
   "source": [
    "Es mucho más rápido que la implementación anterior pero construir el diccionario también consume tiempo."
   ]
  },
  {
   "cell_type": "code",
   "execution_count": 11,
   "metadata": {},
   "outputs": [
    {
     "data": {
      "text/plain": [
       "array(['2018-10-13 11:10:23.560', '262km NW of Ozernovskiy, Russia',\n",
       "       'mww', '6.7', 'green', '1'], dtype='<U31')"
      ]
     },
     "execution_count": 11,
     "metadata": {},
     "output_type": "execute_result"
    }
   ],
   "source": [
    "# Buscamos obtener el row del valor máximo de mag usando el subindice del máximo\n",
    "np.array([value[array_dict['mag'].argmax()] for key,value in array_dict.items()])"
   ]
  },
  {
   "cell_type": "markdown",
   "metadata": {},
   "source": [
    "----------------\n"
   ]
  },
  {
   "cell_type": "markdown",
   "metadata": {},
   "source": [
    "## Series en Pandas"
   ]
  },
  {
   "cell_type": "markdown",
   "metadata": {},
   "source": [
    "Es una estructura para arrays de un único tipo de dato. Es unidimensional, podría representar una columna. Los números a la izquierda representan los indices"
   ]
  },
  {
   "cell_type": "code",
   "execution_count": 12,
   "metadata": {},
   "outputs": [
    {
     "data": {
      "text/plain": [
       "0          262km NW of Ozernovskiy, Russia\n",
       "1              25km E of Bitung, Indonesia\n",
       "2                42km WNW of Sola, Vanuatu\n",
       "3    13km E of Nueva Concepcion, Guatemala\n",
       "4      128km SE of Kimbe, Papua New Guinea\n",
       "Name: place, dtype: object"
      ]
     },
     "execution_count": 12,
     "metadata": {},
     "output_type": "execute_result"
    }
   ],
   "source": [
    "place = pd.Series(array_dict['place'], name='place') #lo crea a partir de un numpy array\n",
    "place"
   ]
  },
  {
   "cell_type": "markdown",
   "metadata": {},
   "source": [
    "Los atributos de la series son:\n",
    "* **name** : nombre del objeto serie\n",
    "* **dtype**: el tipo de datos\n",
    "* **shape**: la dimensión dada por el número de filas\n",
    "* **index**: retorna el objeto Index de la serie\n",
    "* **values**: los valores como un numpy array"
   ]
  },
  {
   "cell_type": "code",
   "execution_count": 13,
   "metadata": {},
   "outputs": [
    {
     "data": {
      "text/plain": [
       "array(['262km NW of Ozernovskiy, Russia', '25km E of Bitung, Indonesia',\n",
       "       '42km WNW of Sola, Vanuatu',\n",
       "       '13km E of Nueva Concepcion, Guatemala',\n",
       "       '128km SE of Kimbe, Papua New Guinea'], dtype=object)"
      ]
     },
     "execution_count": 13,
     "metadata": {},
     "output_type": "execute_result"
    }
   ],
   "source": [
    "place.values"
   ]
  },
  {
   "cell_type": "code",
   "execution_count": 14,
   "metadata": {},
   "outputs": [
    {
     "data": {
      "text/plain": [
       "RangeIndex(start=0, stop=5, step=1)"
      ]
     },
     "execution_count": 14,
     "metadata": {},
     "output_type": "execute_result"
    }
   ],
   "source": [
    "place.index"
   ]
  },
  {
   "cell_type": "code",
   "execution_count": 15,
   "metadata": {},
   "outputs": [
    {
     "data": {
      "text/plain": [
       "(5,)"
      ]
     },
     "execution_count": 15,
     "metadata": {},
     "output_type": "execute_result"
    }
   ],
   "source": [
    "place.shape"
   ]
  },
  {
   "cell_type": "markdown",
   "metadata": {},
   "source": [
    "# Index"
   ]
  },
  {
   "cell_type": "markdown",
   "metadata": {},
   "source": [
    "Index son las etiquetas del row. Puede ser un número, una fecha o un string.\n",
    "Atributos:\n",
    "* **name** : nombre\n",
    "* **dtype** : tipo de datos del indice\n",
    "* **shape**: dimensiones del indice\n",
    "* **value**: los datos del objeto indice como numpy array\n",
    "* **is_unique**: checkea si el indice tiene todos valores únicos\n",
    "\n",
    "Documentación:  https:/​/​pandas.​pydata.​org/​pandas-​docs/stable/​generated/​pandas.​Index.​html.\n"
   ]
  },
  {
   "cell_type": "code",
   "execution_count": 16,
   "metadata": {},
   "outputs": [
    {
     "name": "stdout",
     "output_type": "stream",
     "text": [
      "None\n"
     ]
    }
   ],
   "source": [
    "print(place.index.name)"
   ]
  },
  {
   "cell_type": "code",
   "execution_count": 17,
   "metadata": {},
   "outputs": [
    {
     "name": "stdout",
     "output_type": "stream",
     "text": [
      "Números\n"
     ]
    }
   ],
   "source": [
    "place.index.name = \"Números\"\n",
    "print(place.index.name)"
   ]
  },
  {
   "cell_type": "code",
   "execution_count": 18,
   "metadata": {},
   "outputs": [
    {
     "data": {
      "text/plain": [
       "Números\n",
       "0          262km NW of Ozernovskiy, Russia\n",
       "1              25km E of Bitung, Indonesia\n",
       "2                42km WNW of Sola, Vanuatu\n",
       "3    13km E of Nueva Concepcion, Guatemala\n",
       "4      128km SE of Kimbe, Papua New Guinea\n",
       "Name: place, dtype: object"
      ]
     },
     "execution_count": 18,
     "metadata": {},
     "output_type": "execute_result"
    }
   ],
   "source": [
    "place"
   ]
  },
  {
   "cell_type": "code",
   "execution_count": 19,
   "metadata": {},
   "outputs": [
    {
     "data": {
      "text/plain": [
       "array([0, 1, 2, 3, 4])"
      ]
     },
     "execution_count": 19,
     "metadata": {},
     "output_type": "execute_result"
    }
   ],
   "source": [
    "place.index.values"
   ]
  },
  {
   "cell_type": "code",
   "execution_count": 20,
   "metadata": {},
   "outputs": [
    {
     "name": "stdout",
     "output_type": "stream",
     "text": [
      "[0 0 0]\n",
      "0    0\n",
      "1    0\n",
      "2    0\n",
      "dtype: int64\n"
     ]
    }
   ],
   "source": [
    "# En series como numpy se pueden usar operaciones aritméticas\n",
    "\n",
    "print(np.array([1,2,3])+np.array([-1,-2,-3]))\n",
    "print(pd.Series(np.array([1,2,3]))+pd.Series(np.array([-1,-2,-3])))"
   ]
  },
  {
   "cell_type": "markdown",
   "metadata": {},
   "source": [
    "Linspace crea un arreglo de numeros en numpy. Por defecto son 20 numeros y van desde inicio a fin\n",
    "https://numpy.org/doc/stable/reference/generated/numpy.linspace.html"
   ]
  },
  {
   "cell_type": "code",
   "execution_count": 21,
   "metadata": {},
   "outputs": [
    {
     "data": {
      "text/plain": [
       "array([ 0.        ,  0.20408163,  0.40816327,  0.6122449 ,  0.81632653,\n",
       "        1.02040816,  1.2244898 ,  1.42857143,  1.63265306,  1.83673469,\n",
       "        2.04081633,  2.24489796,  2.44897959,  2.65306122,  2.85714286,\n",
       "        3.06122449,  3.26530612,  3.46938776,  3.67346939,  3.87755102,\n",
       "        4.08163265,  4.28571429,  4.48979592,  4.69387755,  4.89795918,\n",
       "        5.10204082,  5.30612245,  5.51020408,  5.71428571,  5.91836735,\n",
       "        6.12244898,  6.32653061,  6.53061224,  6.73469388,  6.93877551,\n",
       "        7.14285714,  7.34693878,  7.55102041,  7.75510204,  7.95918367,\n",
       "        8.16326531,  8.36734694,  8.57142857,  8.7755102 ,  8.97959184,\n",
       "        9.18367347,  9.3877551 ,  9.59183673,  9.79591837, 10.        ])"
      ]
     },
     "execution_count": 21,
     "metadata": {},
     "output_type": "execute_result"
    }
   ],
   "source": [
    "np.linspace(0,10)"
   ]
  },
  {
   "cell_type": "code",
   "execution_count": 22,
   "metadata": {},
   "outputs": [
    {
     "data": {
      "text/plain": [
       "array([0., 1., 2., 3., 4., 5., 6., 7., 8., 9.])"
      ]
     },
     "execution_count": 22,
     "metadata": {},
     "output_type": "execute_result"
    }
   ],
   "source": [
    "np.linspace(0,9, num=10)"
   ]
  },
  {
   "cell_type": "code",
   "execution_count": 23,
   "metadata": {},
   "outputs": [
    {
     "data": {
      "text/plain": [
       "0    NaN\n",
       "1    2.0\n",
       "2    3.0\n",
       "3    4.0\n",
       "4    5.0\n",
       "5    NaN\n",
       "dtype: float64"
      ]
     },
     "execution_count": 23,
     "metadata": {},
     "output_type": "execute_result"
    }
   ],
   "source": [
    "# Cuando sumamos con Series podemos perder datos dado que suma index wise.\n",
    "\n",
    "pd.Series(np.linspace(0,4,num=5))+pd.Series(np.ones(5), index=pd.Index([1,2,3,4,5]))"
   ]
  },
  {
   "cell_type": "code",
   "execution_count": 24,
   "metadata": {},
   "outputs": [
    {
     "data": {
      "text/plain": [
       "0    NaN\n",
       "1    2.0\n",
       "2    NaN\n",
       "3    2.0\n",
       "4    NaN\n",
       "5    NaN\n",
       "7    NaN\n",
       "9    NaN\n",
       "dtype: float64"
      ]
     },
     "execution_count": 24,
     "metadata": {},
     "output_type": "execute_result"
    }
   ],
   "source": [
    "# Cuando sumamos con Series podemos perder datos dado que suma index wise.\n",
    "# IMPORTANTE: Notar que perdemos información donde no puede sumar\n",
    "pd.Series(np.ones(5))+pd.Series(np.ones(5), index=pd.Index([1,3,5,7,9]))"
   ]
  },
  {
   "cell_type": "markdown",
   "metadata": {},
   "source": [
    "# DataFrame"
   ]
  },
  {
   "cell_type": "markdown",
   "metadata": {},
   "source": [
    "El DataFrame se forma a patir de Series y contiene todas las columnas de datos. Notar que también tiene indice.\n",
    "https://pandas.pydata.org/pandas-docs/stable/generated/pandas.DataFrame.html\n"
   ]
  },
  {
   "cell_type": "code",
   "execution_count": 25,
   "metadata": {},
   "outputs": [
    {
     "data": {
      "text/html": [
       "<div>\n",
       "<style scoped>\n",
       "    .dataframe tbody tr th:only-of-type {\n",
       "        vertical-align: middle;\n",
       "    }\n",
       "\n",
       "    .dataframe tbody tr th {\n",
       "        vertical-align: top;\n",
       "    }\n",
       "\n",
       "    .dataframe thead th {\n",
       "        text-align: right;\n",
       "    }\n",
       "</style>\n",
       "<table border=\"1\" class=\"dataframe\">\n",
       "  <thead>\n",
       "    <tr style=\"text-align: right;\">\n",
       "      <th></th>\n",
       "      <th>time</th>\n",
       "      <th>place</th>\n",
       "      <th>magType</th>\n",
       "      <th>mag</th>\n",
       "      <th>alert</th>\n",
       "      <th>tsunami</th>\n",
       "    </tr>\n",
       "  </thead>\n",
       "  <tbody>\n",
       "    <tr>\n",
       "      <th>0</th>\n",
       "      <td>2018-10-13 11:10:23.560</td>\n",
       "      <td>262km NW of Ozernovskiy, Russia</td>\n",
       "      <td>mww</td>\n",
       "      <td>6.7</td>\n",
       "      <td>green</td>\n",
       "      <td>1</td>\n",
       "    </tr>\n",
       "    <tr>\n",
       "      <th>1</th>\n",
       "      <td>2018-10-13 04:34:15.580</td>\n",
       "      <td>25km E of Bitung, Indonesia</td>\n",
       "      <td>mww</td>\n",
       "      <td>5.2</td>\n",
       "      <td>green</td>\n",
       "      <td>0</td>\n",
       "    </tr>\n",
       "    <tr>\n",
       "      <th>2</th>\n",
       "      <td>2018-10-13 00:13:46.220</td>\n",
       "      <td>42km WNW of Sola, Vanuatu</td>\n",
       "      <td>mww</td>\n",
       "      <td>5.7</td>\n",
       "      <td>green</td>\n",
       "      <td>0</td>\n",
       "    </tr>\n",
       "    <tr>\n",
       "      <th>3</th>\n",
       "      <td>2018-10-12 21:09:49.240</td>\n",
       "      <td>13km E of Nueva Concepcion, Guatemala</td>\n",
       "      <td>mww</td>\n",
       "      <td>5.7</td>\n",
       "      <td>green</td>\n",
       "      <td>0</td>\n",
       "    </tr>\n",
       "    <tr>\n",
       "      <th>4</th>\n",
       "      <td>2018-10-12 02:52:03.620</td>\n",
       "      <td>128km SE of Kimbe, Papua New Guinea</td>\n",
       "      <td>mww</td>\n",
       "      <td>5.6</td>\n",
       "      <td>green</td>\n",
       "      <td>1</td>\n",
       "    </tr>\n",
       "  </tbody>\n",
       "</table>\n",
       "</div>"
      ],
      "text/plain": [
       "                      time                                  place magType  \\\n",
       "0  2018-10-13 11:10:23.560        262km NW of Ozernovskiy, Russia     mww   \n",
       "1  2018-10-13 04:34:15.580            25km E of Bitung, Indonesia     mww   \n",
       "2  2018-10-13 00:13:46.220              42km WNW of Sola, Vanuatu     mww   \n",
       "3  2018-10-12 21:09:49.240  13km E of Nueva Concepcion, Guatemala     mww   \n",
       "4  2018-10-12 02:52:03.620    128km SE of Kimbe, Papua New Guinea     mww   \n",
       "\n",
       "   mag  alert  tsunami  \n",
       "0  6.7  green        1  \n",
       "1  5.2  green        0  \n",
       "2  5.7  green        0  \n",
       "3  5.7  green        0  \n",
       "4  5.6  green        1  "
      ]
     },
     "execution_count": 25,
     "metadata": {},
     "output_type": "execute_result"
    }
   ],
   "source": [
    "# creamos un dataframe desde un diccionario de numpy arrays\n",
    "df = pd.DataFrame(array_dict)\n",
    "df"
   ]
  },
  {
   "cell_type": "code",
   "execution_count": 26,
   "metadata": {},
   "outputs": [],
   "source": [
    "# Para ver los docstrings\n",
    "# help()\n",
    "# pd.read_csv? #Ipython help\n",
    "# pd.read_csv??"
   ]
  },
  {
   "cell_type": "markdown",
   "metadata": {},
   "source": [
    "_Para garantizar que el resultado sea reproducible, estableceremos la semilla aquí. La semilla da un\n",
    "punto de partida para la generación de números pseudoaleatorios. Sin algoritmos para\n",
    "generación de números aleatorios son verdaderamente aleatorios, son deterministas y, por lo tanto,\n",
    "al establecer este punto de partida, los números generados serán los mismos cada vez que el\n",
    "se ejecuta el código. Libro: Data Analysis with Pandas, 2019_"
   ]
  },
  {
   "cell_type": "code",
   "execution_count": 27,
   "metadata": {},
   "outputs": [
    {
     "data": {
      "text/plain": [
       "0    0.548814\n",
       "1    0.715189\n",
       "2    0.602763\n",
       "3    0.544883\n",
       "4    0.423655\n",
       "Name: random, dtype: float64"
      ]
     },
     "execution_count": 27,
     "metadata": {},
     "output_type": "execute_result"
    }
   ],
   "source": [
    "np.random.seed(0)\n",
    "pd.Series(np.random.rand(5), name='random')"
   ]
  },
  {
   "cell_type": "code",
   "execution_count": 28,
   "metadata": {},
   "outputs": [
    {
     "data": {
      "text/plain": [
       "array([0, 1, 2, 3, 4, 5, 6, 7, 8, 9])"
      ]
     },
     "execution_count": 28,
     "metadata": {},
     "output_type": "execute_result"
    }
   ],
   "source": [
    "np.arange(10)"
   ]
  },
  {
   "cell_type": "code",
   "execution_count": 29,
   "metadata": {},
   "outputs": [
    {
     "data": {
      "text/plain": [
       "array([1., 1., 1., 1., 1.])"
      ]
     },
     "execution_count": 29,
     "metadata": {},
     "output_type": "execute_result"
    }
   ],
   "source": [
    "np.ones(5)"
   ]
  },
  {
   "cell_type": "code",
   "execution_count": 30,
   "metadata": {},
   "outputs": [
    {
     "data": {
      "text/plain": [
       "array([0., 0., 0., 0., 0.])"
      ]
     },
     "execution_count": 30,
     "metadata": {},
     "output_type": "execute_result"
    }
   ],
   "source": [
    "np.zeros(5)"
   ]
  },
  {
   "cell_type": "code",
   "execution_count": 31,
   "metadata": {},
   "outputs": [
    {
     "data": {
      "text/plain": [
       "array([-0.84272405,  1.96992445,  1.26611853, -0.50587654])"
      ]
     },
     "execution_count": 31,
     "metadata": {},
     "output_type": "execute_result"
    }
   ],
   "source": [
    "np.random.normal(size=(4,))\n"
   ]
  },
  {
   "cell_type": "code",
   "execution_count": 32,
   "metadata": {},
   "outputs": [
    {
     "data": {
      "text/plain": [
       "array([0.52889492, 0.56804456, 0.92559664, 0.07103606, 0.0871293 ,\n",
       "       0.0202184 , 0.83261985, 0.77815675, 0.87001215, 0.97861834])"
      ]
     },
     "execution_count": 32,
     "metadata": {},
     "output_type": "execute_result"
    }
   ],
   "source": [
    "np.random.uniform(size=10)"
   ]
  },
  {
   "cell_type": "markdown",
   "metadata": {},
   "source": [
    "Podemos usar **to_frame()** para convertir una Serie en un DataFrame"
   ]
  },
  {
   "cell_type": "code",
   "execution_count": 33,
   "metadata": {},
   "outputs": [
    {
     "data": {
      "text/html": [
       "<div>\n",
       "<style scoped>\n",
       "    .dataframe tbody tr th:only-of-type {\n",
       "        vertical-align: middle;\n",
       "    }\n",
       "\n",
       "    .dataframe tbody tr th {\n",
       "        vertical-align: top;\n",
       "    }\n",
       "\n",
       "    .dataframe thead th {\n",
       "        text-align: right;\n",
       "    }\n",
       "</style>\n",
       "<table border=\"1\" class=\"dataframe\">\n",
       "  <thead>\n",
       "    <tr style=\"text-align: right;\">\n",
       "      <th></th>\n",
       "      <th>0</th>\n",
       "    </tr>\n",
       "  </thead>\n",
       "  <tbody>\n",
       "    <tr>\n",
       "      <th>0</th>\n",
       "      <td>0.548814</td>\n",
       "    </tr>\n",
       "    <tr>\n",
       "      <th>1</th>\n",
       "      <td>0.715189</td>\n",
       "    </tr>\n",
       "    <tr>\n",
       "      <th>2</th>\n",
       "      <td>0.602763</td>\n",
       "    </tr>\n",
       "    <tr>\n",
       "      <th>3</th>\n",
       "      <td>0.544883</td>\n",
       "    </tr>\n",
       "    <tr>\n",
       "      <th>4</th>\n",
       "      <td>0.423655</td>\n",
       "    </tr>\n",
       "    <tr>\n",
       "      <th>5</th>\n",
       "      <td>0.645894</td>\n",
       "    </tr>\n",
       "    <tr>\n",
       "      <th>6</th>\n",
       "      <td>0.437587</td>\n",
       "    </tr>\n",
       "    <tr>\n",
       "      <th>7</th>\n",
       "      <td>0.891773</td>\n",
       "    </tr>\n",
       "    <tr>\n",
       "      <th>8</th>\n",
       "      <td>0.963663</td>\n",
       "    </tr>\n",
       "    <tr>\n",
       "      <th>9</th>\n",
       "      <td>0.383442</td>\n",
       "    </tr>\n",
       "  </tbody>\n",
       "</table>\n",
       "</div>"
      ],
      "text/plain": [
       "          0\n",
       "0  0.548814\n",
       "1  0.715189\n",
       "2  0.602763\n",
       "3  0.544883\n",
       "4  0.423655\n",
       "5  0.645894\n",
       "6  0.437587\n",
       "7  0.891773\n",
       "8  0.963663\n",
       "9  0.383442"
      ]
     },
     "execution_count": 33,
     "metadata": {},
     "output_type": "execute_result"
    }
   ],
   "source": [
    "np.random.seed(0)\n",
    "df = pd.Series(np.random.uniform(size=10)).to_frame()\n",
    "df"
   ]
  },
  {
   "cell_type": "code",
   "execution_count": 34,
   "metadata": {},
   "outputs": [
    {
     "data": {
      "text/html": [
       "<div>\n",
       "<style scoped>\n",
       "    .dataframe tbody tr th:only-of-type {\n",
       "        vertical-align: middle;\n",
       "    }\n",
       "\n",
       "    .dataframe tbody tr th {\n",
       "        vertical-align: top;\n",
       "    }\n",
       "\n",
       "    .dataframe thead th {\n",
       "        text-align: right;\n",
       "    }\n",
       "</style>\n",
       "<table border=\"1\" class=\"dataframe\">\n",
       "  <thead>\n",
       "    <tr style=\"text-align: right;\">\n",
       "      <th></th>\n",
       "      <th>random</th>\n",
       "      <th>text</th>\n",
       "      <th>truth</th>\n",
       "    </tr>\n",
       "    <tr>\n",
       "      <th>date</th>\n",
       "      <th></th>\n",
       "      <th></th>\n",
       "      <th></th>\n",
       "    </tr>\n",
       "  </thead>\n",
       "  <tbody>\n",
       "    <tr>\n",
       "      <th>2019-04-17</th>\n",
       "      <td>0.548814</td>\n",
       "      <td>hot</td>\n",
       "      <td>False</td>\n",
       "    </tr>\n",
       "    <tr>\n",
       "      <th>2019-04-18</th>\n",
       "      <td>0.715189</td>\n",
       "      <td>warm</td>\n",
       "      <td>True</td>\n",
       "    </tr>\n",
       "    <tr>\n",
       "      <th>2019-04-19</th>\n",
       "      <td>0.602763</td>\n",
       "      <td>cool</td>\n",
       "      <td>True</td>\n",
       "    </tr>\n",
       "    <tr>\n",
       "      <th>2019-04-20</th>\n",
       "      <td>0.544883</td>\n",
       "      <td>cold</td>\n",
       "      <td>False</td>\n",
       "    </tr>\n",
       "    <tr>\n",
       "      <th>2019-04-21</th>\n",
       "      <td>0.423655</td>\n",
       "      <td>None</td>\n",
       "      <td>True</td>\n",
       "    </tr>\n",
       "  </tbody>\n",
       "</table>\n",
       "</div>"
      ],
      "text/plain": [
       "              random  text  truth\n",
       "date                             \n",
       "2019-04-17  0.548814   hot  False\n",
       "2019-04-18  0.715189  warm   True\n",
       "2019-04-19  0.602763  cool   True\n",
       "2019-04-20  0.544883  cold  False\n",
       "2019-04-21  0.423655  None   True"
      ]
     },
     "execution_count": 34,
     "metadata": {},
     "output_type": "execute_result"
    }
   ],
   "source": [
    "# Podemos cerar un dataframe a partir de un diccionario de np.arrays o listas\n",
    "np.random.seed(0)\n",
    "pd.DataFrame({'random': np.random.rand(5),\n",
    "             'text': ['hot','warm','cool','cold',None],\n",
    "             'truth': [np.random.choice([True, False]) for _ in range(5)]\n",
    "             },\n",
    "            index=pd.date_range(end=datetime.date(2019, 4, 21), freq = '1D', periods=5, name='date')\n",
    "            )"
   ]
  },
  {
   "cell_type": "code",
   "execution_count": 35,
   "metadata": {},
   "outputs": [
    {
     "data": {
      "text/html": [
       "<div>\n",
       "<style scoped>\n",
       "    .dataframe tbody tr th:only-of-type {\n",
       "        vertical-align: middle;\n",
       "    }\n",
       "\n",
       "    .dataframe tbody tr th {\n",
       "        vertical-align: top;\n",
       "    }\n",
       "\n",
       "    .dataframe thead th {\n",
       "        text-align: right;\n",
       "    }\n",
       "</style>\n",
       "<table border=\"1\" class=\"dataframe\">\n",
       "  <thead>\n",
       "    <tr style=\"text-align: right;\">\n",
       "      <th></th>\n",
       "      <th>mag</th>\n",
       "      <th>place</th>\n",
       "    </tr>\n",
       "  </thead>\n",
       "  <tbody>\n",
       "    <tr>\n",
       "      <th>0</th>\n",
       "      <td>5.2</td>\n",
       "      <td>California</td>\n",
       "    </tr>\n",
       "    <tr>\n",
       "      <th>1</th>\n",
       "      <td>1.2</td>\n",
       "      <td>Alaska</td>\n",
       "    </tr>\n",
       "    <tr>\n",
       "      <th>2</th>\n",
       "      <td>0.2</td>\n",
       "      <td>California</td>\n",
       "    </tr>\n",
       "  </tbody>\n",
       "</table>\n",
       "</div>"
      ],
      "text/plain": [
       "   mag       place\n",
       "0  5.2  California\n",
       "1  1.2      Alaska\n",
       "2  0.2  California"
      ]
     },
     "execution_count": 35,
     "metadata": {},
     "output_type": "execute_result"
    }
   ],
   "source": [
    "# Podemos crear un dataframe a partir de una lista de diccionarios\n",
    "pd.DataFrame([ {'mag' : 5.2, 'place' : 'California'},\n",
    "              {'mag' : 1.2, 'place' : 'Alaska'}, \n",
    "              {'mag' : 0.2, 'place' : 'California'},\n",
    "             ])\n"
   ]
  },
  {
   "cell_type": "code",
   "execution_count": 36,
   "metadata": {},
   "outputs": [
    {
     "data": {
      "text/html": [
       "<div>\n",
       "<style scoped>\n",
       "    .dataframe tbody tr th:only-of-type {\n",
       "        vertical-align: middle;\n",
       "    }\n",
       "\n",
       "    .dataframe tbody tr th {\n",
       "        vertical-align: top;\n",
       "    }\n",
       "\n",
       "    .dataframe thead th {\n",
       "        text-align: right;\n",
       "    }\n",
       "</style>\n",
       "<table border=\"1\" class=\"dataframe\">\n",
       "  <thead>\n",
       "    <tr style=\"text-align: right;\">\n",
       "      <th></th>\n",
       "      <th>n</th>\n",
       "      <th>n_squared</th>\n",
       "      <th>n_cubed</th>\n",
       "    </tr>\n",
       "  </thead>\n",
       "  <tbody>\n",
       "    <tr>\n",
       "      <th>0</th>\n",
       "      <td>0</td>\n",
       "      <td>0</td>\n",
       "      <td>0</td>\n",
       "    </tr>\n",
       "    <tr>\n",
       "      <th>1</th>\n",
       "      <td>1</td>\n",
       "      <td>1</td>\n",
       "      <td>1</td>\n",
       "    </tr>\n",
       "    <tr>\n",
       "      <th>2</th>\n",
       "      <td>2</td>\n",
       "      <td>4</td>\n",
       "      <td>8</td>\n",
       "    </tr>\n",
       "    <tr>\n",
       "      <th>3</th>\n",
       "      <td>3</td>\n",
       "      <td>9</td>\n",
       "      <td>27</td>\n",
       "    </tr>\n",
       "    <tr>\n",
       "      <th>4</th>\n",
       "      <td>4</td>\n",
       "      <td>16</td>\n",
       "      <td>64</td>\n",
       "    </tr>\n",
       "  </tbody>\n",
       "</table>\n",
       "</div>"
      ],
      "text/plain": [
       "   n  n_squared  n_cubed\n",
       "0  0          0        0\n",
       "1  1          1        1\n",
       "2  2          4        8\n",
       "3  3          9       27\n",
       "4  4         16       64"
      ]
     },
     "execution_count": 36,
     "metadata": {},
     "output_type": "execute_result"
    }
   ],
   "source": [
    "# Podemos crear un dataframe a partir de una lista de tuplas\n",
    "\n",
    "list_of_tuples = [ (n, n**2, n**3) for n in range(5)]\n",
    "pd.DataFrame(list_of_tuples, columns=[\"n\", \"n_squared\", \"n_cubed\"])"
   ]
  },
  {
   "cell_type": "code",
   "execution_count": 37,
   "metadata": {},
   "outputs": [
    {
     "data": {
      "text/html": [
       "<div>\n",
       "<style scoped>\n",
       "    .dataframe tbody tr th:only-of-type {\n",
       "        vertical-align: middle;\n",
       "    }\n",
       "\n",
       "    .dataframe tbody tr th {\n",
       "        vertical-align: top;\n",
       "    }\n",
       "\n",
       "    .dataframe thead th {\n",
       "        text-align: right;\n",
       "    }\n",
       "</style>\n",
       "<table border=\"1\" class=\"dataframe\">\n",
       "  <thead>\n",
       "    <tr style=\"text-align: right;\">\n",
       "      <th></th>\n",
       "      <th>n</th>\n",
       "      <th>n_squared</th>\n",
       "      <th>n_cubed</th>\n",
       "    </tr>\n",
       "  </thead>\n",
       "  <tbody>\n",
       "    <tr>\n",
       "      <th>0</th>\n",
       "      <td>0</td>\n",
       "      <td>0</td>\n",
       "      <td>0</td>\n",
       "    </tr>\n",
       "    <tr>\n",
       "      <th>1</th>\n",
       "      <td>1</td>\n",
       "      <td>1</td>\n",
       "      <td>1</td>\n",
       "    </tr>\n",
       "    <tr>\n",
       "      <th>2</th>\n",
       "      <td>2</td>\n",
       "      <td>4</td>\n",
       "      <td>8</td>\n",
       "    </tr>\n",
       "    <tr>\n",
       "      <th>3</th>\n",
       "      <td>3</td>\n",
       "      <td>9</td>\n",
       "      <td>27</td>\n",
       "    </tr>\n",
       "    <tr>\n",
       "      <th>4</th>\n",
       "      <td>4</td>\n",
       "      <td>16</td>\n",
       "      <td>64</td>\n",
       "    </tr>\n",
       "  </tbody>\n",
       "</table>\n",
       "</div>"
      ],
      "text/plain": [
       "   n  n_squared  n_cubed\n",
       "0  0          0        0\n",
       "1  1          1        1\n",
       "2  2          4        8\n",
       "3  3          9       27\n",
       "4  4         16       64"
      ]
     },
     "execution_count": 37,
     "metadata": {},
     "output_type": "execute_result"
    }
   ],
   "source": [
    "# Podemos crear un DataFrame desde un numpy array\n",
    "pd.DataFrame(np.array([[0, 0, 0],[1, 1, 1], [2, 4, 8], [3, 9, 27], [4, 16, 64]]), \n",
    "             columns=['n', 'n_squared', 'n_cubed'] )\n"
   ]
  },
  {
   "cell_type": "markdown",
   "metadata": {},
   "source": [
    "-----"
   ]
  },
  {
   "cell_type": "markdown",
   "metadata": {},
   "source": [
    "# Leyendo datos desde archivos"
   ]
  },
  {
   "cell_type": "markdown",
   "metadata": {},
   "source": [
    "Podemos capturar la salida de la linea de comandos con Python"
   ]
  },
  {
   "cell_type": "code",
   "execution_count": 40,
   "metadata": {},
   "outputs": [
    {
     "data": {
      "text/plain": [
       "['total 6,9M',\n",
       " '-rw-rw-r-- 1 lety lety 3,4M oct 15 20:10 earthquakes.csv',\n",
       " '-rw-rw-r-- 1 lety lety  397 oct 15 20:10 example_data.csv',\n",
       " '-rw-rw-r-- 1 lety lety 3,5M oct 15 20:10 parsed.csv',\n",
       " '-rw-rw-r-- 1 lety lety  16K oct 15 20:10 quakes.db',\n",
       " '-rw-rw-r-- 1 lety lety 6,7K oct 15 20:10 tsunamis.csv']"
      ]
     },
     "execution_count": 40,
     "metadata": {},
     "output_type": "execute_result"
    }
   ],
   "source": [
    "files = !ls -lh data\n",
    "files"
   ]
  },
  {
   "cell_type": "markdown",
   "metadata": {},
   "source": [
    "Podemos leer un archivo de Pandas usando read_csv.  Tiene los siguientes parámetros:\n",
    "* **sep** : Especifica el delimitador.\n",
    "* **header** : El número de fila donde estan los nombres de la columnas\n",
    "* **names** : Lista de nombres de las columnas usadas como cabecera\n",
    "* **index_col**: columna para usar como indice\n",
    "* **usecols** : que columnas leer\n",
    "* **dtype** : tipos de datos para las columnas\n",
    "* **converters** : Funciones para convertir ciertos datos en ciertas columnas\n",
    "* **skiprows** : Saltear filas\n",
    "* **nrows** : Cantidad de rows a leer de un tiempo\n",
    "* **parse_dates** : Parsea las columnas conteniendo fechas en datetime\n",
    "* **chunksize** : Para leer el archivo en trozos (chuncks)\n",
    "* **compression** : Para leer archivos comprimidos sin extraerlos antes\n",
    "* **encoding** : Especifica el file encoding\n",
    "\n"
   ]
  },
  {
   "cell_type": "code",
   "execution_count": 45,
   "metadata": {},
   "outputs": [],
   "source": [
    "filename=\"data/earthquakes.csv\"\n",
    "df = pd.read_csv(filename)\n",
    "\n"
   ]
  },
  {
   "cell_type": "code",
   "execution_count": 46,
   "metadata": {},
   "outputs": [
    {
     "data": {
      "text/html": [
       "<div>\n",
       "<style scoped>\n",
       "    .dataframe tbody tr th:only-of-type {\n",
       "        vertical-align: middle;\n",
       "    }\n",
       "\n",
       "    .dataframe tbody tr th {\n",
       "        vertical-align: top;\n",
       "    }\n",
       "\n",
       "    .dataframe thead th {\n",
       "        text-align: right;\n",
       "    }\n",
       "</style>\n",
       "<table border=\"1\" class=\"dataframe\">\n",
       "  <thead>\n",
       "    <tr style=\"text-align: right;\">\n",
       "      <th></th>\n",
       "      <th>alert</th>\n",
       "      <th>cdi</th>\n",
       "      <th>code</th>\n",
       "      <th>detail</th>\n",
       "      <th>dmin</th>\n",
       "      <th>felt</th>\n",
       "      <th>gap</th>\n",
       "      <th>ids</th>\n",
       "      <th>mag</th>\n",
       "      <th>magType</th>\n",
       "      <th>...</th>\n",
       "      <th>sources</th>\n",
       "      <th>status</th>\n",
       "      <th>time</th>\n",
       "      <th>title</th>\n",
       "      <th>tsunami</th>\n",
       "      <th>type</th>\n",
       "      <th>types</th>\n",
       "      <th>tz</th>\n",
       "      <th>updated</th>\n",
       "      <th>url</th>\n",
       "    </tr>\n",
       "  </thead>\n",
       "  <tbody>\n",
       "    <tr>\n",
       "      <th>0</th>\n",
       "      <td>NaN</td>\n",
       "      <td>NaN</td>\n",
       "      <td>37389218</td>\n",
       "      <td>https://earthquake.usgs.gov/fdsnws/event/1/que...</td>\n",
       "      <td>0.008693</td>\n",
       "      <td>NaN</td>\n",
       "      <td>85.0</td>\n",
       "      <td>,ci37389218,</td>\n",
       "      <td>1.35</td>\n",
       "      <td>ml</td>\n",
       "      <td>...</td>\n",
       "      <td>,ci,</td>\n",
       "      <td>automatic</td>\n",
       "      <td>1539475168010</td>\n",
       "      <td>M 1.4 - 9km NE of Aguanga, CA</td>\n",
       "      <td>0</td>\n",
       "      <td>earthquake</td>\n",
       "      <td>,geoserve,nearby-cities,origin,phase-data,</td>\n",
       "      <td>-480.0</td>\n",
       "      <td>1539475395144</td>\n",
       "      <td>https://earthquake.usgs.gov/earthquakes/eventp...</td>\n",
       "    </tr>\n",
       "    <tr>\n",
       "      <th>1</th>\n",
       "      <td>NaN</td>\n",
       "      <td>NaN</td>\n",
       "      <td>37389202</td>\n",
       "      <td>https://earthquake.usgs.gov/fdsnws/event/1/que...</td>\n",
       "      <td>0.020030</td>\n",
       "      <td>NaN</td>\n",
       "      <td>79.0</td>\n",
       "      <td>,ci37389202,</td>\n",
       "      <td>1.29</td>\n",
       "      <td>ml</td>\n",
       "      <td>...</td>\n",
       "      <td>,ci,</td>\n",
       "      <td>automatic</td>\n",
       "      <td>1539475129610</td>\n",
       "      <td>M 1.3 - 9km NE of Aguanga, CA</td>\n",
       "      <td>0</td>\n",
       "      <td>earthquake</td>\n",
       "      <td>,geoserve,nearby-cities,origin,phase-data,</td>\n",
       "      <td>-480.0</td>\n",
       "      <td>1539475253925</td>\n",
       "      <td>https://earthquake.usgs.gov/earthquakes/eventp...</td>\n",
       "    </tr>\n",
       "    <tr>\n",
       "      <th>2</th>\n",
       "      <td>NaN</td>\n",
       "      <td>4.4</td>\n",
       "      <td>37389194</td>\n",
       "      <td>https://earthquake.usgs.gov/fdsnws/event/1/que...</td>\n",
       "      <td>0.021370</td>\n",
       "      <td>28.0</td>\n",
       "      <td>21.0</td>\n",
       "      <td>,ci37389194,</td>\n",
       "      <td>3.42</td>\n",
       "      <td>ml</td>\n",
       "      <td>...</td>\n",
       "      <td>,ci,</td>\n",
       "      <td>automatic</td>\n",
       "      <td>1539475062610</td>\n",
       "      <td>M 3.4 - 8km NE of Aguanga, CA</td>\n",
       "      <td>0</td>\n",
       "      <td>earthquake</td>\n",
       "      <td>,dyfi,focal-mechanism,geoserve,nearby-cities,o...</td>\n",
       "      <td>-480.0</td>\n",
       "      <td>1539536756176</td>\n",
       "      <td>https://earthquake.usgs.gov/earthquakes/eventp...</td>\n",
       "    </tr>\n",
       "    <tr>\n",
       "      <th>3</th>\n",
       "      <td>NaN</td>\n",
       "      <td>NaN</td>\n",
       "      <td>37389186</td>\n",
       "      <td>https://earthquake.usgs.gov/fdsnws/event/1/que...</td>\n",
       "      <td>0.026180</td>\n",
       "      <td>NaN</td>\n",
       "      <td>39.0</td>\n",
       "      <td>,ci37389186,</td>\n",
       "      <td>0.44</td>\n",
       "      <td>ml</td>\n",
       "      <td>...</td>\n",
       "      <td>,ci,</td>\n",
       "      <td>automatic</td>\n",
       "      <td>1539474978070</td>\n",
       "      <td>M 0.4 - 9km NE of Aguanga, CA</td>\n",
       "      <td>0</td>\n",
       "      <td>earthquake</td>\n",
       "      <td>,geoserve,nearby-cities,origin,phase-data,</td>\n",
       "      <td>-480.0</td>\n",
       "      <td>1539475196167</td>\n",
       "      <td>https://earthquake.usgs.gov/earthquakes/eventp...</td>\n",
       "    </tr>\n",
       "    <tr>\n",
       "      <th>4</th>\n",
       "      <td>NaN</td>\n",
       "      <td>NaN</td>\n",
       "      <td>73096941</td>\n",
       "      <td>https://earthquake.usgs.gov/fdsnws/event/1/que...</td>\n",
       "      <td>0.077990</td>\n",
       "      <td>NaN</td>\n",
       "      <td>192.0</td>\n",
       "      <td>,nc73096941,</td>\n",
       "      <td>2.16</td>\n",
       "      <td>md</td>\n",
       "      <td>...</td>\n",
       "      <td>,nc,</td>\n",
       "      <td>automatic</td>\n",
       "      <td>1539474716050</td>\n",
       "      <td>M 2.2 - 10km NW of Avenal, CA</td>\n",
       "      <td>0</td>\n",
       "      <td>earthquake</td>\n",
       "      <td>,geoserve,nearby-cities,origin,phase-data,scit...</td>\n",
       "      <td>-480.0</td>\n",
       "      <td>1539477547926</td>\n",
       "      <td>https://earthquake.usgs.gov/earthquakes/eventp...</td>\n",
       "    </tr>\n",
       "    <tr>\n",
       "      <th>...</th>\n",
       "      <td>...</td>\n",
       "      <td>...</td>\n",
       "      <td>...</td>\n",
       "      <td>...</td>\n",
       "      <td>...</td>\n",
       "      <td>...</td>\n",
       "      <td>...</td>\n",
       "      <td>...</td>\n",
       "      <td>...</td>\n",
       "      <td>...</td>\n",
       "      <td>...</td>\n",
       "      <td>...</td>\n",
       "      <td>...</td>\n",
       "      <td>...</td>\n",
       "      <td>...</td>\n",
       "      <td>...</td>\n",
       "      <td>...</td>\n",
       "      <td>...</td>\n",
       "      <td>...</td>\n",
       "      <td>...</td>\n",
       "      <td>...</td>\n",
       "    </tr>\n",
       "    <tr>\n",
       "      <th>9327</th>\n",
       "      <td>NaN</td>\n",
       "      <td>NaN</td>\n",
       "      <td>73086771</td>\n",
       "      <td>https://earthquake.usgs.gov/fdsnws/event/1/que...</td>\n",
       "      <td>0.018060</td>\n",
       "      <td>NaN</td>\n",
       "      <td>185.0</td>\n",
       "      <td>,nc73086771,</td>\n",
       "      <td>0.62</td>\n",
       "      <td>md</td>\n",
       "      <td>...</td>\n",
       "      <td>,nc,</td>\n",
       "      <td>reviewed</td>\n",
       "      <td>1537230228060</td>\n",
       "      <td>M 0.6 - 9km ENE of Mammoth Lakes, CA</td>\n",
       "      <td>0</td>\n",
       "      <td>earthquake</td>\n",
       "      <td>,geoserve,nearby-cities,origin,phase-data,</td>\n",
       "      <td>-480.0</td>\n",
       "      <td>1537285598315</td>\n",
       "      <td>https://earthquake.usgs.gov/earthquakes/eventp...</td>\n",
       "    </tr>\n",
       "    <tr>\n",
       "      <th>9328</th>\n",
       "      <td>NaN</td>\n",
       "      <td>NaN</td>\n",
       "      <td>38063967</td>\n",
       "      <td>https://earthquake.usgs.gov/fdsnws/event/1/que...</td>\n",
       "      <td>0.030410</td>\n",
       "      <td>NaN</td>\n",
       "      <td>50.0</td>\n",
       "      <td>,ci38063967,</td>\n",
       "      <td>1.00</td>\n",
       "      <td>ml</td>\n",
       "      <td>...</td>\n",
       "      <td>,ci,</td>\n",
       "      <td>reviewed</td>\n",
       "      <td>1537230135130</td>\n",
       "      <td>M 1.0 - 3km W of Julian, CA</td>\n",
       "      <td>0</td>\n",
       "      <td>earthquake</td>\n",
       "      <td>,geoserve,nearby-cities,origin,phase-data,scit...</td>\n",
       "      <td>-480.0</td>\n",
       "      <td>1537276800970</td>\n",
       "      <td>https://earthquake.usgs.gov/earthquakes/eventp...</td>\n",
       "    </tr>\n",
       "    <tr>\n",
       "      <th>9329</th>\n",
       "      <td>NaN</td>\n",
       "      <td>NaN</td>\n",
       "      <td>2018261000</td>\n",
       "      <td>https://earthquake.usgs.gov/fdsnws/event/1/que...</td>\n",
       "      <td>0.452600</td>\n",
       "      <td>NaN</td>\n",
       "      <td>276.0</td>\n",
       "      <td>,pr2018261000,</td>\n",
       "      <td>2.40</td>\n",
       "      <td>md</td>\n",
       "      <td>...</td>\n",
       "      <td>,pr,</td>\n",
       "      <td>reviewed</td>\n",
       "      <td>1537229908180</td>\n",
       "      <td>M 2.4 - 35km NNE of Hatillo, Puerto Rico</td>\n",
       "      <td>0</td>\n",
       "      <td>earthquake</td>\n",
       "      <td>,geoserve,origin,phase-data,</td>\n",
       "      <td>-240.0</td>\n",
       "      <td>1537243777410</td>\n",
       "      <td>https://earthquake.usgs.gov/earthquakes/eventp...</td>\n",
       "    </tr>\n",
       "    <tr>\n",
       "      <th>9330</th>\n",
       "      <td>NaN</td>\n",
       "      <td>NaN</td>\n",
       "      <td>38063959</td>\n",
       "      <td>https://earthquake.usgs.gov/fdsnws/event/1/que...</td>\n",
       "      <td>0.018650</td>\n",
       "      <td>NaN</td>\n",
       "      <td>61.0</td>\n",
       "      <td>,ci38063959,</td>\n",
       "      <td>1.10</td>\n",
       "      <td>ml</td>\n",
       "      <td>...</td>\n",
       "      <td>,ci,</td>\n",
       "      <td>reviewed</td>\n",
       "      <td>1537229545350</td>\n",
       "      <td>M 1.1 - 9km NE of Aguanga, CA</td>\n",
       "      <td>0</td>\n",
       "      <td>earthquake</td>\n",
       "      <td>,focal-mechanism,geoserve,nearby-cities,origin...</td>\n",
       "      <td>-480.0</td>\n",
       "      <td>1537230211640</td>\n",
       "      <td>https://earthquake.usgs.gov/earthquakes/eventp...</td>\n",
       "    </tr>\n",
       "    <tr>\n",
       "      <th>9331</th>\n",
       "      <td>NaN</td>\n",
       "      <td>NaN</td>\n",
       "      <td>38063935</td>\n",
       "      <td>https://earthquake.usgs.gov/fdsnws/event/1/que...</td>\n",
       "      <td>0.016980</td>\n",
       "      <td>NaN</td>\n",
       "      <td>39.0</td>\n",
       "      <td>,ci38063935,</td>\n",
       "      <td>0.66</td>\n",
       "      <td>ml</td>\n",
       "      <td>...</td>\n",
       "      <td>,ci,</td>\n",
       "      <td>reviewed</td>\n",
       "      <td>1537228864470</td>\n",
       "      <td>M 0.7 - 9km NE of Aguanga, CA</td>\n",
       "      <td>0</td>\n",
       "      <td>earthquake</td>\n",
       "      <td>,focal-mechanism,geoserve,nearby-cities,origin...</td>\n",
       "      <td>-480.0</td>\n",
       "      <td>1537305830770</td>\n",
       "      <td>https://earthquake.usgs.gov/earthquakes/eventp...</td>\n",
       "    </tr>\n",
       "  </tbody>\n",
       "</table>\n",
       "<p>9332 rows × 26 columns</p>\n",
       "</div>"
      ],
      "text/plain": [
       "     alert  cdi        code  \\\n",
       "0      NaN  NaN    37389218   \n",
       "1      NaN  NaN    37389202   \n",
       "2      NaN  4.4    37389194   \n",
       "3      NaN  NaN    37389186   \n",
       "4      NaN  NaN    73096941   \n",
       "...    ...  ...         ...   \n",
       "9327   NaN  NaN    73086771   \n",
       "9328   NaN  NaN    38063967   \n",
       "9329   NaN  NaN  2018261000   \n",
       "9330   NaN  NaN    38063959   \n",
       "9331   NaN  NaN    38063935   \n",
       "\n",
       "                                                 detail      dmin  felt  \\\n",
       "0     https://earthquake.usgs.gov/fdsnws/event/1/que...  0.008693   NaN   \n",
       "1     https://earthquake.usgs.gov/fdsnws/event/1/que...  0.020030   NaN   \n",
       "2     https://earthquake.usgs.gov/fdsnws/event/1/que...  0.021370  28.0   \n",
       "3     https://earthquake.usgs.gov/fdsnws/event/1/que...  0.026180   NaN   \n",
       "4     https://earthquake.usgs.gov/fdsnws/event/1/que...  0.077990   NaN   \n",
       "...                                                 ...       ...   ...   \n",
       "9327  https://earthquake.usgs.gov/fdsnws/event/1/que...  0.018060   NaN   \n",
       "9328  https://earthquake.usgs.gov/fdsnws/event/1/que...  0.030410   NaN   \n",
       "9329  https://earthquake.usgs.gov/fdsnws/event/1/que...  0.452600   NaN   \n",
       "9330  https://earthquake.usgs.gov/fdsnws/event/1/que...  0.018650   NaN   \n",
       "9331  https://earthquake.usgs.gov/fdsnws/event/1/que...  0.016980   NaN   \n",
       "\n",
       "        gap             ids   mag magType  ...  sources     status  \\\n",
       "0      85.0    ,ci37389218,  1.35      ml  ...     ,ci,  automatic   \n",
       "1      79.0    ,ci37389202,  1.29      ml  ...     ,ci,  automatic   \n",
       "2      21.0    ,ci37389194,  3.42      ml  ...     ,ci,  automatic   \n",
       "3      39.0    ,ci37389186,  0.44      ml  ...     ,ci,  automatic   \n",
       "4     192.0    ,nc73096941,  2.16      md  ...     ,nc,  automatic   \n",
       "...     ...             ...   ...     ...  ...      ...        ...   \n",
       "9327  185.0    ,nc73086771,  0.62      md  ...     ,nc,   reviewed   \n",
       "9328   50.0    ,ci38063967,  1.00      ml  ...     ,ci,   reviewed   \n",
       "9329  276.0  ,pr2018261000,  2.40      md  ...     ,pr,   reviewed   \n",
       "9330   61.0    ,ci38063959,  1.10      ml  ...     ,ci,   reviewed   \n",
       "9331   39.0    ,ci38063935,  0.66      ml  ...     ,ci,   reviewed   \n",
       "\n",
       "               time                                     title  tsunami  \\\n",
       "0     1539475168010             M 1.4 - 9km NE of Aguanga, CA        0   \n",
       "1     1539475129610             M 1.3 - 9km NE of Aguanga, CA        0   \n",
       "2     1539475062610             M 3.4 - 8km NE of Aguanga, CA        0   \n",
       "3     1539474978070             M 0.4 - 9km NE of Aguanga, CA        0   \n",
       "4     1539474716050             M 2.2 - 10km NW of Avenal, CA        0   \n",
       "...             ...                                       ...      ...   \n",
       "9327  1537230228060      M 0.6 - 9km ENE of Mammoth Lakes, CA        0   \n",
       "9328  1537230135130               M 1.0 - 3km W of Julian, CA        0   \n",
       "9329  1537229908180  M 2.4 - 35km NNE of Hatillo, Puerto Rico        0   \n",
       "9330  1537229545350             M 1.1 - 9km NE of Aguanga, CA        0   \n",
       "9331  1537228864470             M 0.7 - 9km NE of Aguanga, CA        0   \n",
       "\n",
       "            type                                              types     tz  \\\n",
       "0     earthquake         ,geoserve,nearby-cities,origin,phase-data, -480.0   \n",
       "1     earthquake         ,geoserve,nearby-cities,origin,phase-data, -480.0   \n",
       "2     earthquake  ,dyfi,focal-mechanism,geoserve,nearby-cities,o... -480.0   \n",
       "3     earthquake         ,geoserve,nearby-cities,origin,phase-data, -480.0   \n",
       "4     earthquake  ,geoserve,nearby-cities,origin,phase-data,scit... -480.0   \n",
       "...          ...                                                ...    ...   \n",
       "9327  earthquake         ,geoserve,nearby-cities,origin,phase-data, -480.0   \n",
       "9328  earthquake  ,geoserve,nearby-cities,origin,phase-data,scit... -480.0   \n",
       "9329  earthquake                       ,geoserve,origin,phase-data, -240.0   \n",
       "9330  earthquake  ,focal-mechanism,geoserve,nearby-cities,origin... -480.0   \n",
       "9331  earthquake  ,focal-mechanism,geoserve,nearby-cities,origin... -480.0   \n",
       "\n",
       "            updated                                                url  \n",
       "0     1539475395144  https://earthquake.usgs.gov/earthquakes/eventp...  \n",
       "1     1539475253925  https://earthquake.usgs.gov/earthquakes/eventp...  \n",
       "2     1539536756176  https://earthquake.usgs.gov/earthquakes/eventp...  \n",
       "3     1539475196167  https://earthquake.usgs.gov/earthquakes/eventp...  \n",
       "4     1539477547926  https://earthquake.usgs.gov/earthquakes/eventp...  \n",
       "...             ...                                                ...  \n",
       "9327  1537285598315  https://earthquake.usgs.gov/earthquakes/eventp...  \n",
       "9328  1537276800970  https://earthquake.usgs.gov/earthquakes/eventp...  \n",
       "9329  1537243777410  https://earthquake.usgs.gov/earthquakes/eventp...  \n",
       "9330  1537230211640  https://earthquake.usgs.gov/earthquakes/eventp...  \n",
       "9331  1537305830770  https://earthquake.usgs.gov/earthquakes/eventp...  \n",
       "\n",
       "[9332 rows x 26 columns]"
      ]
     },
     "execution_count": 46,
     "metadata": {},
     "output_type": "execute_result"
    }
   ],
   "source": [
    "df"
   ]
  },
  {
   "cell_type": "markdown",
   "metadata": {},
   "source": [
    "Las opciones **read_json()** y **read_excel()** nos permiten leer desde esas fuentes respectivamente."
   ]
  },
  {
   "cell_type": "code",
   "execution_count": 48,
   "metadata": {},
   "outputs": [],
   "source": [
    "# Para salvar a CSV\n",
    "df.to_csv('output.csv', index=False)\n"
   ]
  },
  {
   "cell_type": "markdown",
   "metadata": {},
   "source": [
    "----"
   ]
  },
  {
   "cell_type": "markdown",
   "metadata": {},
   "source": [
    "# From Database"
   ]
  },
  {
   "cell_type": "markdown",
   "metadata": {},
   "source": [
    "Importamos el paquete de base de datos\n"
   ]
  },
  {
   "cell_type": "code",
   "execution_count": 52,
   "metadata": {},
   "outputs": [],
   "source": [
    "import sqlite3"
   ]
  },
  {
   "cell_type": "markdown",
   "metadata": {},
   "source": [
    "Escribir desde un CSV datos a una base de datos, si el archivo no existe la crea\n",
    "Documentación : https://pandas.pydata.org/pandas-docs/stable/user_guide/io.html.\n"
   ]
  },
  {
   "cell_type": "code",
   "execution_count": 55,
   "metadata": {},
   "outputs": [],
   "source": [
    "csv_filename = 'data/tsunamis.csv'\n",
    "db_filename = 'data/quakes.db'\n",
    "\n",
    "with sqlite3.connect(db_filename) as connection:\n",
    "    pd.read_csv(csv_filename).to_sql(\n",
    "        'tsunamis', connection, index=False, if_exists='replace'\n",
    "    )"
   ]
  },
  {
   "cell_type": "code",
   "execution_count": 56,
   "metadata": {},
   "outputs": [
    {
     "data": {
      "text/html": [
       "<div>\n",
       "<style scoped>\n",
       "    .dataframe tbody tr th:only-of-type {\n",
       "        vertical-align: middle;\n",
       "    }\n",
       "\n",
       "    .dataframe tbody tr th {\n",
       "        vertical-align: top;\n",
       "    }\n",
       "\n",
       "    .dataframe thead th {\n",
       "        text-align: right;\n",
       "    }\n",
       "</style>\n",
       "<table border=\"1\" class=\"dataframe\">\n",
       "  <thead>\n",
       "    <tr style=\"text-align: right;\">\n",
       "      <th></th>\n",
       "      <th>alert</th>\n",
       "      <th>type</th>\n",
       "      <th>title</th>\n",
       "      <th>place</th>\n",
       "      <th>magType</th>\n",
       "      <th>mag</th>\n",
       "      <th>time</th>\n",
       "    </tr>\n",
       "  </thead>\n",
       "  <tbody>\n",
       "    <tr>\n",
       "      <th>0</th>\n",
       "      <td>None</td>\n",
       "      <td>earthquake</td>\n",
       "      <td>M 5.0 - 165km NNW of Flying Fish Cove, Christm...</td>\n",
       "      <td>165km NNW of Flying Fish Cove, Christmas Island</td>\n",
       "      <td>mww</td>\n",
       "      <td>5.0</td>\n",
       "      <td>1539459504090</td>\n",
       "    </tr>\n",
       "    <tr>\n",
       "      <th>1</th>\n",
       "      <td>green</td>\n",
       "      <td>earthquake</td>\n",
       "      <td>M 6.7 - 262km NW of Ozernovskiy, Russia</td>\n",
       "      <td>262km NW of Ozernovskiy, Russia</td>\n",
       "      <td>mww</td>\n",
       "      <td>6.7</td>\n",
       "      <td>1539429023560</td>\n",
       "    </tr>\n",
       "    <tr>\n",
       "      <th>2</th>\n",
       "      <td>green</td>\n",
       "      <td>earthquake</td>\n",
       "      <td>M 5.6 - 128km SE of Kimbe, Papua New Guinea</td>\n",
       "      <td>128km SE of Kimbe, Papua New Guinea</td>\n",
       "      <td>mww</td>\n",
       "      <td>5.6</td>\n",
       "      <td>1539312723620</td>\n",
       "    </tr>\n",
       "    <tr>\n",
       "      <th>3</th>\n",
       "      <td>green</td>\n",
       "      <td>earthquake</td>\n",
       "      <td>M 6.5 - 148km S of Severo-Kuril'sk, Russia</td>\n",
       "      <td>148km S of Severo-Kuril'sk, Russia</td>\n",
       "      <td>mww</td>\n",
       "      <td>6.5</td>\n",
       "      <td>1539213362130</td>\n",
       "    </tr>\n",
       "    <tr>\n",
       "      <th>4</th>\n",
       "      <td>green</td>\n",
       "      <td>earthquake</td>\n",
       "      <td>M 6.2 - 94km SW of Kokopo, Papua New Guinea</td>\n",
       "      <td>94km SW of Kokopo, Papua New Guinea</td>\n",
       "      <td>mww</td>\n",
       "      <td>6.2</td>\n",
       "      <td>1539208835130</td>\n",
       "    </tr>\n",
       "  </tbody>\n",
       "</table>\n",
       "</div>"
      ],
      "text/plain": [
       "   alert        type                                              title  \\\n",
       "0   None  earthquake  M 5.0 - 165km NNW of Flying Fish Cove, Christm...   \n",
       "1  green  earthquake            M 6.7 - 262km NW of Ozernovskiy, Russia   \n",
       "2  green  earthquake        M 5.6 - 128km SE of Kimbe, Papua New Guinea   \n",
       "3  green  earthquake         M 6.5 - 148km S of Severo-Kuril'sk, Russia   \n",
       "4  green  earthquake        M 6.2 - 94km SW of Kokopo, Papua New Guinea   \n",
       "\n",
       "                                             place magType  mag           time  \n",
       "0  165km NNW of Flying Fish Cove, Christmas Island     mww  5.0  1539459504090  \n",
       "1                  262km NW of Ozernovskiy, Russia     mww  6.7  1539429023560  \n",
       "2              128km SE of Kimbe, Papua New Guinea     mww  5.6  1539312723620  \n",
       "3               148km S of Severo-Kuril'sk, Russia     mww  6.5  1539213362130  \n",
       "4              94km SW of Kokopo, Papua New Guinea     mww  6.2  1539208835130  "
      ]
     },
     "execution_count": 56,
     "metadata": {},
     "output_type": "execute_result"
    }
   ],
   "source": [
    "with sqlite3.connect('data/quakes.db') as connection:\n",
    "    tsunamis = pd.read_sql('SELECT * FROM tsunamis', connection)\n",
    "\n",
    "tsunamis.head()\n"
   ]
  },
  {
   "cell_type": "markdown",
   "metadata": {},
   "source": [
    "----"
   ]
  },
  {
   "cell_type": "markdown",
   "metadata": {},
   "source": [
    "# From API"
   ]
  },
  {
   "cell_type": "code",
   "execution_count": 58,
   "metadata": {},
   "outputs": [],
   "source": [
    "import requests\n",
    "import datetime\n"
   ]
  },
  {
   "cell_type": "code",
   "execution_count": null,
   "metadata": {},
   "outputs": [],
   "source": []
  }
 ],
 "metadata": {
  "kernelspec": {
   "display_name": "Python 3",
   "language": "python",
   "name": "python3"
  },
  "language_info": {
   "codemirror_mode": {
    "name": "ipython",
    "version": 3
   },
   "file_extension": ".py",
   "mimetype": "text/x-python",
   "name": "python",
   "nbconvert_exporter": "python",
   "pygments_lexer": "ipython3",
   "version": "3.6.13"
  }
 },
 "nbformat": 4,
 "nbformat_minor": 4
}
